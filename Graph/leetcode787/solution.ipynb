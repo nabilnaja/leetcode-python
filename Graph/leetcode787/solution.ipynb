{
 "cells": [
  {
   "cell_type": "markdown",
   "source": [
    "#### 787. Cheapest Flights Within K Stops"
   ],
   "metadata": {
    "collapsed": false,
    "pycharm": {
     "name": "#%% md\n"
    }
   }
  },
  {
   "cell_type": "markdown",
   "source": [
    "* Description\n",
    "\n",
    "There are n cities connected by some number of flights. You are given an array flights where flights[i] = [fromi, toi, pricei] indicates that there is a flight from city fromi to city to i\n",
    "with cost price i.\n",
    "\n",
    "You are also given three integers src, dst, and k, return the cheapest price from src to dst with at most k stops. If there is no such route, return -1.\n"
   ],
   "metadata": {
    "collapsed": false,
    "pycharm": {
     "name": "#%% md\n"
    }
   }
  },
  {
   "cell_type": "markdown",
   "source": [
    "* Complexity analysis Dijkstra's\n",
    "\n",
    "Time complexity: O(v + e log v).\n",
    "\n",
    "Space complexity: O(V)."
   ],
   "metadata": {
    "collapsed": false,
    "pycharm": {
     "name": "#%% md\n"
    }
   }
  },
  {
   "cell_type": "markdown",
   "source": [
    "* Solution"
   ],
   "metadata": {
    "collapsed": false,
    "pycharm": {
     "name": "#%% md\n"
    }
   }
  },
  {
   "cell_type": "code",
   "execution_count": 7,
   "outputs": [],
   "source": [
    "import heapq\n",
    "from builtins import float\n",
    "from typing import List\n",
    "\n",
    "class Solution:\n",
    "    def findCheapestPrice(self, n: int, flights: List[List[int]], src: int, dst: int, k: int) -> int:\n",
    "        adj = {}\n",
    "        for source, *detail in flights:\n",
    "            if source in adj:\n",
    "                adj[source].append(detail)\n",
    "            else:\n",
    "                adj[source] = [detail]\n",
    "\n",
    "        distances = [float(\"inf\") for _ in range(n)]\n",
    "        current_stops = [float(\"inf\") for _ in range(n)]\n",
    "        distances[src], current_stops[src] = 0, 0\n",
    "\n",
    "        heap = [(0, 0, src)]\n",
    "\n",
    "        while heap:\n",
    "\n",
    "            cost, stops, node = heapq.heappop(heap)\n",
    "\n",
    "            if node == dst:\n",
    "                return cost\n",
    "\n",
    "            if stops == k + 1:\n",
    "                continue\n",
    "\n",
    "            for neighbor, neighborCost in adj.get(node, []):\n",
    "                newCost = cost + neighborCost\n",
    "                if distances[neighbor] > newCost or stops < current_stops[neighbor]:\n",
    "                    distances[neighbor] = newCost\n",
    "                    heapq.heappush(heap, (newCost, stops + 1, neighbor))\n",
    "                current_stops[neighbor] = stops\n",
    "        return -1 if distances[dst] == float(\"inf\") else distances[dst]"
   ],
   "metadata": {
    "collapsed": false,
    "pycharm": {
     "name": "#%%\n"
    }
   }
  },
  {
   "cell_type": "code",
   "execution_count": null,
   "outputs": [],
   "source": [
    "print(Solution().findCheapestPrice(4, [[0, 1, 100], [1, 2, 100], [2, 0, 100], [1, 3, 600], [2, 3, 200]], 0, 3, 1))"
   ],
   "metadata": {
    "collapsed": false,
    "pycharm": {
     "name": "#%%\n",
     "is_executing": true
    }
   }
  }
 ],
 "metadata": {
  "kernelspec": {
   "display_name": "Python 3",
   "language": "python",
   "name": "python3"
  },
  "language_info": {
   "codemirror_mode": {
    "name": "ipython",
    "version": 2
   },
   "file_extension": ".py",
   "mimetype": "text/x-python",
   "name": "python",
   "nbconvert_exporter": "python",
   "pygments_lexer": "ipython2",
   "version": "2.7.6"
  }
 },
 "nbformat": 4,
 "nbformat_minor": 0
}