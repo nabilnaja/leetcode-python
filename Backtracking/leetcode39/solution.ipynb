{
 "cells": [
  {
   "cell_type": "markdown",
   "source": [
    "#### 39. Combination Sum"
   ],
   "metadata": {
    "collapsed": false,
    "pycharm": {
     "name": "#%% md\n"
    }
   }
  },
  {
   "cell_type": "markdown",
   "source": [
    "* Description\n",
    "\n",
    "Given an array of distinct integers candidates and a target integer target, return a list of all unique combinations of candidates where the chosen numbers sum to target. You may return the combinations in any order.\n",
    "\n",
    "The same number may be chosen from candidates an unlimited number of times. Two combinations are unique if the frequency of at least one of the chosen numbers is different.\n",
    "\n",
    "It is guaranteed that the number of unique combinations that sum up to target is less than 150 combinations for the given input."
   ],
   "metadata": {
    "collapsed": false,
    "pycharm": {
     "name": "#%% md\n"
    }
   }
  },
  {
   "cell_type": "markdown",
   "source": [
    "* Complexity analysis Backtracking\n",
    "\n",
    "Time complexity: .\n",
    "\n",
    "Space complexity: ."
   ],
   "metadata": {
    "collapsed": false,
    "pycharm": {
     "name": "#%% md\n"
    }
   }
  },
  {
   "cell_type": "markdown",
   "source": [
    "* Solution"
   ],
   "metadata": {
    "collapsed": false,
    "pycharm": {
     "name": "#%% md\n"
    }
   }
  },
  {
   "cell_type": "code",
   "execution_count": 1,
   "outputs": [],
   "source": [
    "from typing import List\n",
    "\n",
    "\n",
    "class Solution:\n",
    "        def combinationSum(self, candidates: List[int], target: int) -> List[List[int]]:\n",
    "            res = []\n",
    "\n",
    "            def backtrack(start=0, currentSum=0, currentRes=[]):\n",
    "                if currentSum == target:\n",
    "                    res.append(currentRes[:])\n",
    "                    return\n",
    "                if currentSum > target:\n",
    "                    return\n",
    "                for i in range(start, len(candidates)):\n",
    "                    currentRes.append(candidates[i])\n",
    "                    backtrack(i, currentSum + candidates[i], currentRes)\n",
    "                    currentRes.pop()\n",
    "\n",
    "            backtrack()\n",
    "            return res\n"
   ],
   "metadata": {
    "collapsed": false,
    "pycharm": {
     "name": "#%%\n"
    }
   }
  },
  {
   "cell_type": "code",
   "execution_count": null,
   "outputs": [],
   "source": [
    "print(Solution().combinationSum([2, 3, 6, 7], 7))"
   ],
   "metadata": {
    "collapsed": false,
    "pycharm": {
     "name": "#%%\n",
     "is_executing": true
    }
   }
  }
 ],
 "metadata": {
  "kernelspec": {
   "display_name": "Python 3",
   "language": "python",
   "name": "python3"
  },
  "language_info": {
   "codemirror_mode": {
    "name": "ipython",
    "version": 2
   },
   "file_extension": ".py",
   "mimetype": "text/x-python",
   "name": "python",
   "nbconvert_exporter": "python",
   "pygments_lexer": "ipython2",
   "version": "2.7.6"
  }
 },
 "nbformat": 4,
 "nbformat_minor": 0
}