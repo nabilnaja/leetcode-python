{
 "cells": [
  {
   "cell_type": "markdown",
   "source": [
    "#### 22. Generate Parentheses"
   ],
   "metadata": {
    "collapsed": false,
    "pycharm": {
     "name": "#%% md\n"
    }
   }
  },
  {
   "cell_type": "markdown",
   "source": [
    "* Description\n",
    "\n",
    "Given n pairs of parentheses, write a function to generate all combinations of well-formed parentheses."
   ],
   "metadata": {
    "collapsed": false,
    "pycharm": {
     "name": "#%% md\n"
    }
   }
  },
  {
   "cell_type": "markdown",
   "source": [
    "* Complexity analysis Backtracking\n",
    "\n",
    "Time complexity: .\n",
    "\n",
    "Space complexity: ."
   ],
   "metadata": {
    "collapsed": false,
    "pycharm": {
     "name": "#%% md\n"
    }
   }
  },
  {
   "cell_type": "markdown",
   "source": [
    "* Solution"
   ],
   "metadata": {
    "collapsed": false,
    "pycharm": {
     "name": "#%% md\n"
    }
   }
  },
  {
   "cell_type": "code",
   "execution_count": null,
   "outputs": [],
   "source": [
    "from typing import List\n",
    "\n",
    "\n",
    "class Solution:\n",
    "    def generateParenthesis(self, n: int) -> List[str]:\n",
    "        def backtrack(sol, s=[], leftSum=0, rightSum=0):\n",
    "            if len(s) == n * 2:\n",
    "                sol.append(''.join(s))\n",
    "                return\n",
    "            if leftSum > rightSum:\n",
    "                s.append(')')\n",
    "                backtrack(sol, s, leftSum, rightSum + 1)\n",
    "                s.pop()\n",
    "            if leftSum < n:\n",
    "                s.append('(')\n",
    "                backtrack(sol, s, leftSum + 1, rightSum)\n",
    "                s.pop()\n",
    "\n",
    "        result = []\n",
    "        backtrack(result)\n",
    "        return result"
   ],
   "metadata": {
    "collapsed": false,
    "pycharm": {
     "name": "#%%\n"
    }
   }
  },
  {
   "cell_type": "code",
   "execution_count": null,
   "outputs": [],
   "source": [
    "print(Solution().generateParenthesis(3))"
   ],
   "metadata": {
    "collapsed": false,
    "pycharm": {
     "name": "#%%\n",
     "is_executing": true
    }
   }
  }
 ],
 "metadata": {
  "kernelspec": {
   "display_name": "Python 3",
   "language": "python",
   "name": "python3"
  },
  "language_info": {
   "codemirror_mode": {
    "name": "ipython",
    "version": 2
   },
   "file_extension": ".py",
   "mimetype": "text/x-python",
   "name": "python",
   "nbconvert_exporter": "python",
   "pygments_lexer": "ipython2",
   "version": "2.7.6"
  }
 },
 "nbformat": 4,
 "nbformat_minor": 0
}