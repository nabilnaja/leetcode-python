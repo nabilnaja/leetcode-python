{
 "cells": [
  {
   "cell_type": "markdown",
   "source": [
    "#### 301. Remove Invalid Parentheses"
   ],
   "metadata": {
    "collapsed": false,
    "pycharm": {
     "name": "#%% md\n"
    }
   }
  },
  {
   "cell_type": "markdown",
   "source": [
    "* Description\n",
    "\n",
    "Given a string s that contains parentheses and letters, remove the minimum number of invalid parentheses to make the input string valid.\n",
    "\n",
    "Return all the possible results. You may return the answer in any order."
   ],
   "metadata": {
    "collapsed": false,
    "pycharm": {
     "name": "#%% md\n"
    }
   }
  },
  {
   "cell_type": "markdown",
   "source": [
    "* Complexity analysis Backtracking\n",
    "\n",
    "Time complexity: O(n * 2^n).\n",
    "\n",
    "Space complexity: O(n)."
   ],
   "metadata": {
    "collapsed": false,
    "pycharm": {
     "name": "#%% md\n"
    }
   }
  },
  {
   "cell_type": "markdown",
   "source": [
    "* Solution"
   ],
   "metadata": {
    "collapsed": false,
    "pycharm": {
     "name": "#%% md\n"
    }
   }
  },
  {
   "cell_type": "code",
   "execution_count": 6,
   "outputs": [],
   "source": [
    "from typing import List\n",
    "\n",
    "\n",
    "class Solution:\n",
    "\n",
    "    def __init__(self):\n",
    "        self.valid_expressions = None\n",
    "        self.min_removed = None\n",
    "\n",
    "    def reset(self):\n",
    "        self.valid_expressions = set()\n",
    "        self.min_removed = float(\"inf\")\n",
    "\n",
    "    def remaining(self, string, index, left_count, right_count, expr, rem_count):\n",
    "        if index == len(string):\n",
    "            if left_count == right_count:\n",
    "                if rem_count <= self.min_removed:\n",
    "                    possible_ans = \"\".join(expr)\n",
    "\n",
    "                    if rem_count < self.min_removed:\n",
    "                        self.valid_expressions = set()\n",
    "                        self.min_removed = rem_count\n",
    "\n",
    "                    self.valid_expressions.add(possible_ans)\n",
    "        else:\n",
    "            current_char = string[index]\n",
    "            if current_char != '(' and current_char != ')':\n",
    "                expr.append(current_char)\n",
    "                self.remaining(string, index + 1, left_count, right_count, expr, rem_count)\n",
    "                expr.pop()\n",
    "            else:\n",
    "                self.remaining(string, index + 1, left_count, right_count, expr, rem_count + 1)\n",
    "                expr.append(current_char)\n",
    "                if string[index] == '(':\n",
    "                    self.remaining(string, index + 1, left_count + 1, right_count, expr, rem_count + 1)\n",
    "                elif right_count < left_count:\n",
    "                    self.remaining(string, index + 1, left_count, right_count + 1, expr, rem_count)\n",
    "                expr.pop()\n",
    "\n",
    "        pass\n",
    "\n",
    "    def removeInvalidParentheses(self, s: str) -> List[str]:\n",
    "        # Reset the class level variables that we use for every test case.\n",
    "        self.reset()\n",
    "\n",
    "        # Recursive call\n",
    "        self.remaining(s, 0, 0, 0, [], 0)\n",
    "        return list(self.valid_expressions)\n",
    "\n",
    "    def removeInvalidParentheses2(self, s: str) -> List[str]:\n",
    "\n",
    "        left = 0\n",
    "        right = 0\n",
    "\n",
    "        for char in s:\n",
    "\n",
    "            if char == '(':\n",
    "                left += 1\n",
    "            elif char == ')':\n",
    "                right = right + 1 if left == 0 else right\n",
    "                left = left - 1 if left > 0 else left\n",
    "\n",
    "        def backtrack(index, leftSum, rightSum, s, leftRem, rightRem, res, expr):\n",
    "            if index == len(s):\n",
    "                if leftRem == 0 and rightRem == 0:\n",
    "                    res.add(''.join(expr))\n",
    "            else:\n",
    "                if s[index] == '(' and leftRem > 0:\n",
    "                    backtrack(index + 1, leftSum, rightSum, s, leftRem - 1, rightRem, res, expr)\n",
    "                elif s[index] == ')' and rightRem > 0:\n",
    "                    backtrack(index + 1, leftSum, rightSum, s, leftRem, rightRem - 1, res, expr)\n",
    "                expr.append(s[index])\n",
    "                if s[index] != '(' and s[index] != ')':\n",
    "                    backtrack(index + 1, leftSum, rightSum, s, leftRem, rightRem, res, expr)\n",
    "                if s[index] == '(':\n",
    "                    backtrack(index + 1, leftSum + 1, rightSum, s, leftRem, rightRem, res, expr)\n",
    "                if s[index] == ')' and leftSum > rightSum:\n",
    "                    backtrack(index + 1, leftSum, rightSum + 1, s, leftRem, rightRem, res, expr)\n",
    "                expr.pop()\n",
    "\n",
    "        res = set()\n",
    "        backtrack(0, 0, 0, s, left, right, res, [])\n",
    "        return list(res)"
   ],
   "metadata": {
    "collapsed": false,
    "pycharm": {
     "name": "#%%\n"
    }
   }
  },
  {
   "cell_type": "code",
   "execution_count": null,
   "outputs": [],
   "source": [
    "s = Solution()\n",
    "print(s.removeInvalidParentheses2('()())()'))\n",
    "print(s.removeInvalidParentheses('()())()'))"
   ],
   "metadata": {
    "collapsed": false,
    "pycharm": {
     "name": "#%%\n",
     "is_executing": true
    }
   }
  }
 ],
 "metadata": {
  "kernelspec": {
   "display_name": "Python 3",
   "language": "python",
   "name": "python3"
  },
  "language_info": {
   "codemirror_mode": {
    "name": "ipython",
    "version": 2
   },
   "file_extension": ".py",
   "mimetype": "text/x-python",
   "name": "python",
   "nbconvert_exporter": "python",
   "pygments_lexer": "ipython2",
   "version": "2.7.6"
  }
 },
 "nbformat": 4,
 "nbformat_minor": 0
}