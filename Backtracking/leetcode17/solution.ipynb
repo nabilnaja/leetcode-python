{
 "cells": [
  {
   "cell_type": "markdown",
   "source": [
    "#### 17. Letter Combinations of a Phone Number"
   ],
   "metadata": {
    "collapsed": false,
    "pycharm": {
     "name": "#%% md\n"
    }
   }
  },
  {
   "cell_type": "markdown",
   "source": [
    "* Description\n",
    "\n",
    "Given a string containing digits from 2-9 inclusive, return all possible letter combinations that the number could represent. Return the answer in any order.\n",
    "\n",
    "A mapping of digit to letters (just like on the telephone buttons) is given below. Note that 1 does not map to any letters."
   ],
   "metadata": {
    "collapsed": false,
    "pycharm": {
     "name": "#%% md\n"
    }
   }
  },
  {
   "cell_type": "markdown",
   "source": [
    "* Complexity analysis Backtracking\n",
    "\n",
    "Time complexity: O(n * 4 ^ n).\n",
    "\n",
    "Space complexity: O(n)."
   ],
   "metadata": {
    "collapsed": false,
    "pycharm": {
     "name": "#%% md\n"
    }
   }
  },
  {
   "cell_type": "markdown",
   "source": [
    "* Solution"
   ],
   "metadata": {
    "collapsed": false,
    "pycharm": {
     "name": "#%% md\n"
    }
   }
  },
  {
   "cell_type": "code",
   "execution_count": 1,
   "outputs": [],
   "source": [
    "from typing import List\n",
    "\n",
    "\n",
    "class Solution:\n",
    "\n",
    "    def letterCombinations(self, digits: str) -> List[str]:\n",
    "        if len(digits) == 0:\n",
    "            return []\n",
    "\n",
    "        letters = {'2': 'abc', '3': 'def', '4': 'ghi', '5': 'jkl', '6': 'mno', '7': 'pqrs', '8': 'tuv', '9': 'wxyz'}\n",
    "\n",
    "        def backtrack(start=0, res=[]):\n",
    "\n",
    "            if len(res) == digitsSize:\n",
    "                solutions.append(''.join(res))\n",
    "                return\n",
    "\n",
    "            possible_letters = letters[digits[start]]\n",
    "\n",
    "            for letter in possible_letters:\n",
    "                res.append(letter)\n",
    "                backtrack(start + 1, res)\n",
    "                res.pop()\n",
    "\n",
    "        solutions = []\n",
    "        digitsSize = len(digits)\n",
    "        backtrack()\n",
    "        return solutions"
   ],
   "metadata": {
    "collapsed": false,
    "pycharm": {
     "name": "#%%\n"
    }
   }
  },
  {
   "cell_type": "code",
   "execution_count": null,
   "outputs": [],
   "source": [
    "if __name__ == '__main__':\n",
    "    print(Solution().letterCombinations('23'))"
   ],
   "metadata": {
    "collapsed": false,
    "pycharm": {
     "name": "#%%\n",
     "is_executing": true
    }
   }
  }
 ],
 "metadata": {
  "kernelspec": {
   "display_name": "Python 3",
   "language": "python",
   "name": "python3"
  },
  "language_info": {
   "codemirror_mode": {
    "name": "ipython",
    "version": 2
   },
   "file_extension": ".py",
   "mimetype": "text/x-python",
   "name": "python",
   "nbconvert_exporter": "python",
   "pygments_lexer": "ipython2",
   "version": "2.7.6"
  }
 },
 "nbformat": 4,
 "nbformat_minor": 0
}